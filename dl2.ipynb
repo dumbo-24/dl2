{
  "cells": [
    {
      "cell_type": "code",
      "execution_count": null,
      "id": "55e72647",
      "metadata": {
        "id": "55e72647"
      },
      "outputs": [],
      "source": [
        "from tensorflow.keras.datasets import mnist\n",
        "\n",
        "#For Visualization\n",
        "import matplotlib.pyplot as plt"
      ]
    },
    {
      "cell_type": "code",
      "execution_count": null,
      "id": "ee995ad0",
      "metadata": {
        "colab": {
          "base_uri": "https://localhost:8080/"
        },
        "id": "ee995ad0",
        "outputId": "ca39f54d-b365-4e5f-fefd-42313fbe0fbc"
      },
      "outputs": [
        {
          "output_type": "stream",
          "name": "stdout",
          "text": [
            "Downloading data from https://storage.googleapis.com/tensorflow/tf-keras-datasets/mnist.npz\n",
            "11490434/11490434 [==============================] - 0s 0us/step\n"
          ]
        }
      ],
      "source": [
        "#Split dataset into training and testing sets\n",
        "#load_data() automatically splits dataset into training and testing\n",
        "(x_train,y_train),(x_test,y_test) = mnist.load_data()"
      ]
    },
    {
      "cell_type": "code",
      "execution_count": null,
      "id": "891c8a8a",
      "metadata": {
        "colab": {
          "base_uri": "https://localhost:8080/"
        },
        "id": "891c8a8a",
        "outputId": "8d465aba-638f-4cf9-d931-9c3018a0084a"
      },
      "outputs": [
        {
          "output_type": "execute_result",
          "data": {
            "text/plain": [
              "(60000, 28, 28)"
            ]
          },
          "metadata": {},
          "execution_count": 3
        }
      ],
      "source": [
        "x_train.shape #60,000 training examples"
      ]
    },
    {
      "cell_type": "code",
      "execution_count": null,
      "id": "2b73850c",
      "metadata": {
        "colab": {
          "base_uri": "https://localhost:8080/"
        },
        "id": "2b73850c",
        "outputId": "98dbbb72-4bcd-4528-b6b6-ba1b0231d57c"
      },
      "outputs": [
        {
          "output_type": "execute_result",
          "data": {
            "text/plain": [
              "(10000, 28, 28)"
            ]
          },
          "metadata": {},
          "execution_count": 4
        }
      ],
      "source": [
        "x_test.shape"
      ]
    },
    {
      "cell_type": "code",
      "execution_count": null,
      "id": "c422fa22",
      "metadata": {
        "colab": {
          "base_uri": "https://localhost:8080/"
        },
        "id": "c422fa22",
        "outputId": "9900a049-3b24-45b8-ac97-d488938c6cc1"
      },
      "outputs": [
        {
          "output_type": "execute_result",
          "data": {
            "text/plain": [
              "array([[[0, 0, 0, ..., 0, 0, 0],\n",
              "        [0, 0, 0, ..., 0, 0, 0],\n",
              "        [0, 0, 0, ..., 0, 0, 0],\n",
              "        ...,\n",
              "        [0, 0, 0, ..., 0, 0, 0],\n",
              "        [0, 0, 0, ..., 0, 0, 0],\n",
              "        [0, 0, 0, ..., 0, 0, 0]],\n",
              "\n",
              "       [[0, 0, 0, ..., 0, 0, 0],\n",
              "        [0, 0, 0, ..., 0, 0, 0],\n",
              "        [0, 0, 0, ..., 0, 0, 0],\n",
              "        ...,\n",
              "        [0, 0, 0, ..., 0, 0, 0],\n",
              "        [0, 0, 0, ..., 0, 0, 0],\n",
              "        [0, 0, 0, ..., 0, 0, 0]],\n",
              "\n",
              "       [[0, 0, 0, ..., 0, 0, 0],\n",
              "        [0, 0, 0, ..., 0, 0, 0],\n",
              "        [0, 0, 0, ..., 0, 0, 0],\n",
              "        ...,\n",
              "        [0, 0, 0, ..., 0, 0, 0],\n",
              "        [0, 0, 0, ..., 0, 0, 0],\n",
              "        [0, 0, 0, ..., 0, 0, 0]],\n",
              "\n",
              "       [[0, 0, 0, ..., 0, 0, 0],\n",
              "        [0, 0, 0, ..., 0, 0, 0],\n",
              "        [0, 0, 0, ..., 0, 0, 0],\n",
              "        ...,\n",
              "        [0, 0, 0, ..., 0, 0, 0],\n",
              "        [0, 0, 0, ..., 0, 0, 0],\n",
              "        [0, 0, 0, ..., 0, 0, 0]],\n",
              "\n",
              "       [[0, 0, 0, ..., 0, 0, 0],\n",
              "        [0, 0, 0, ..., 0, 0, 0],\n",
              "        [0, 0, 0, ..., 0, 0, 0],\n",
              "        ...,\n",
              "        [0, 0, 0, ..., 0, 0, 0],\n",
              "        [0, 0, 0, ..., 0, 0, 0],\n",
              "        [0, 0, 0, ..., 0, 0, 0]]], dtype=uint8)"
            ]
          },
          "metadata": {},
          "execution_count": 5
        }
      ],
      "source": [
        "x_train[:5]"
      ]
    },
    {
      "cell_type": "code",
      "execution_count": null,
      "id": "6475d3a2",
      "metadata": {
        "colab": {
          "base_uri": "https://localhost:8080/",
          "height": 432
        },
        "id": "6475d3a2",
        "outputId": "9ddba4fa-cd6d-4b7f-f34e-ec6edcd1eb3c"
      },
      "outputs": [
        {
          "output_type": "display_data",
          "data": {
            "text/plain": [
              "<Figure size 640x480 with 4 Axes>"
            ],
            "image/png": "[encoded data removed]"
          },
          "metadata": {}
        }
      ],
      "source": [
        "#Displaying some numbers\n",
        "for i in range(4):\n",
        "    plt.subplot(220+1+i)\n",
        "    plt.imshow(x_train[i])\n",
        "plt.show()"
      ]
    },
    {
      "cell_type": "code",
      "execution_count": null,
      "id": "26d97ef8",
      "metadata": {
        "id": "26d97ef8"
      },
      "outputs": [],
      "source": [
        "#[When a feature is present only that bit is set to 1 rest all 0] ---> One hot encoding\n",
        "from tensorflow.keras.utils import to_categorical\n",
        "y_train = to_categorical(y_train)"
      ]
    },
    {
      "cell_type": "code",
      "execution_count": null,
      "id": "32bda930",
      "metadata": {
        "colab": {
          "base_uri": "https://localhost:8080/"
        },
        "id": "32bda930",
        "outputId": "655c30a6-4457-45f2-e93c-589ed543ee74"
      },
      "outputs": [
        {
          "output_type": "execute_result",
          "data": {
            "text/plain": [
              "array([[0., 0., 0., 0., 0., 1., 0., 0., 0., 0.],\n",
              "       [1., 0., 0., 0., 0., 0., 0., 0., 0., 0.],\n",
              "       [0., 0., 0., 0., 1., 0., 0., 0., 0., 0.],\n",
              "       [0., 1., 0., 0., 0., 0., 0., 0., 0., 0.]], dtype=float32)"
            ]
          },
          "metadata": {},
          "execution_count": 8
        }
      ],
      "source": [
        "y_train[:4]\n",
        "#First line in y_train represents 5 as '1' is present in position 5"
      ]
    },
    {
      "cell_type": "code",
      "execution_count": null,
      "id": "495b5084",
      "metadata": {
        "id": "495b5084"
      },
      "outputs": [],
      "source": [
        "#Do same for test data\n",
        "y_test = to_categorical(y_test)"
      ]
    },
    {
      "cell_type": "markdown",
      "source": [],
      "metadata": {
        "id": "F6JPixdxo_L9"
      },
      "id": "F6JPixdxo_L9"
    },
    {
      "cell_type": "markdown",
      "source": [],
      "metadata": {
        "id": "vSZalPsBo_bx"
      },
      "id": "vSZalPsBo_bx"
    },
    {
      "cell_type": "code",
      "execution_count": null,
      "id": "437ceda4",
      "metadata": {
        "id": "437ceda4"
      },
      "outputs": [],
      "source": [
        "#Defining model for CNN\n",
        "from tensorflow.keras.models import Sequential\n",
        "from tensorflow.keras.layers import Conv2D\n",
        "from tensorflow.keras.layers import Dense, Flatten,MaxPooling2D\n",
        "from tensorflow.keras.optimizers import SGD\n",
        "def define_model():\n",
        "    model = Sequential()\n",
        "    model.add(Conv2D(32,(3,3),activation='relu',kernel_initializer=\"he_uniform\",input_shape=(28,28,1)))    #input layer\n",
        "    model.add(MaxPooling2D(2,2))                                                                           #Max pooling layer\n",
        "    model.add(Flatten())                                                                                   #Flatten layer\n",
        "    model.add(Dense(100,activation='relu',kernel_initializer=\"he_uniform\"))                                #dense layer\n",
        "    model.add(Dense(10,activation='softmax'))                                                              #output layer\n",
        "    opt = SGD(momentum=0.9)\n",
        "    model.compile(optimizer=opt,loss='CategoricalCrossentropy',metrics=['accuracy'])\n",
        "    return model"
      ]
    },
    {
      "cell_type": "code",
      "execution_count": null,
      "id": "184528d6",
      "metadata": {
        "colab": {
          "base_uri": "https://localhost:8080/"
        },
        "id": "184528d6",
        "outputId": "47ab045a-e5c5-4b49-c070-518be2ec342c"
      },
      "outputs": [
        {
          "output_type": "execute_result",
          "data": {
            "text/plain": [
              "(60000, 28, 28, 1)"
            ]
          },
          "metadata": {},
          "execution_count": 11
        }
      ],
      "source": [
        "x_train.shape[0],28,28,1"
      ]
    },
    {
      "cell_type": "code",
      "execution_count": null,
      "id": "de3be4e2",
      "metadata": {
        "id": "de3be4e2"
      },
      "outputs": [],
      "source": [
        "x_train = x_train.reshape((x_train.shape[0],28,28,1))"
      ]
    },
    {
      "cell_type": "code",
      "execution_count": null,
      "id": "5f74e57d",
      "metadata": {
        "id": "5f74e57d"
      },
      "outputs": [],
      "source": [
        "x_test = x_test.reshape((x_test.shape[0],28,28,1))"
      ]
    },
    {
      "cell_type": "code",
      "execution_count": null,
      "id": "b9eaef42",
      "metadata": {
        "id": "b9eaef42"
      },
      "outputs": [],
      "source": [
        "#For normalization\n",
        "x_train = x_train/255.0\n",
        "x_test = x_test/255.0"
      ]
    },
    {
      "cell_type": "code",
      "execution_count": null,
      "id": "a211a87e",
      "metadata": {
        "id": "a211a87e"
      },
      "outputs": [],
      "source": [
        "model = define_model()"
      ]
    },
    {
      "cell_type": "code",
      "execution_count": null,
      "id": "e714d047",
      "metadata": {
        "colab": {
          "base_uri": "https://localhost:8080/"
        },
        "id": "e714d047",
        "outputId": "4c82080d-d3de-467a-9657-847a62f633b8"
      },
      "outputs": [
        {
          "output_type": "stream",
          "name": "stdout",
          "text": [
            "Epoch 1/10\n",
            "1875/1875 [==============================] - 46s 24ms/step - loss: 0.1623 - accuracy: 0.9510\n",
            "Epoch 2/10\n",
            "1875/1875 [==============================] - 31s 17ms/step - loss: 0.0560 - accuracy: 0.9834\n",
            "Epoch 3/10\n",
            "1875/1875 [==============================] - 29s 16ms/step - loss: 0.0361 - accuracy: 0.9889\n",
            "Epoch 4/10\n",
            "1875/1875 [==============================] - 31s 17ms/step - loss: 0.0248 - accuracy: 0.9919\n",
            "Epoch 5/10\n",
            "1875/1875 [==============================] - 29s 16ms/step - loss: 0.0172 - accuracy: 0.9949\n",
            "Epoch 6/10\n",
            "1875/1875 [==============================] - 30s 16ms/step - loss: 0.0114 - accuracy: 0.9967\n",
            "Epoch 7/10\n",
            "1875/1875 [==============================] - 31s 17ms/step - loss: 0.0080 - accuracy: 0.9978\n",
            "Epoch 8/10\n",
            "1875/1875 [==============================] - 30s 16ms/step - loss: 0.0057 - accuracy: 0.9987\n",
            "Epoch 9/10\n",
            "1875/1875 [==============================] - 30s 16ms/step - loss: 0.0037 - accuracy: 0.9993\n",
            "Epoch 10/10\n",
            "1875/1875 [==============================] - 30s 16ms/step - loss: 0.0020 - accuracy: 0.9998\n"
          ]
        }
      ],
      "source": [
        "H = model.fit(x_train,y_train,epochs=10,batch_size=32)"
      ]
    },
    {
      "cell_type": "code",
      "execution_count": null,
      "id": "94c731a4",
      "metadata": {
        "colab": {
          "base_uri": "https://localhost:8080/"
        },
        "id": "94c731a4",
        "outputId": "f889a174-46b4-48b8-c2cc-59ce38a7c6d7"
      },
      "outputs": [
        {
          "output_type": "stream",
          "name": "stdout",
          "text": [
            "313/313 [==============================] - 2s 5ms/step\n"
          ]
        }
      ],
      "source": [
        "y_output = model.predict(x_test)"
      ]
    },
    {
      "cell_type": "code",
      "execution_count": null,
      "id": "7286ea93",
      "metadata": {
        "colab": {
          "base_uri": "https://localhost:8080/",
          "height": 447
        },
        "id": "7286ea93",
        "outputId": "a2ffe3d7-4d0d-4e70-f4d5-2c2efcaa1430"
      },
      "outputs": [
        {
          "output_type": "execute_result",
          "data": {
            "text/plain": [
              "<matplotlib.image.AxesImage at 0x7d33918618a0>"
            ]
          },
          "metadata": {},
          "execution_count": 18
        },
        {
          "output_type": "display_data",
          "data": {
            "text/plain": [
              "<Figure size 640x480 with 1 Axes>"
            ],
            "image/png": "[encoded data removed]"
          },
          "metadata": {}
        }
      ],
      "source": [
        "import random\n",
        "index = random.randint(1,9)\n",
        "plt.imshow(x_test[index])"
      ]
    },
    {
      "cell_type": "code",
      "execution_count": null,
      "id": "b70a1038",
      "metadata": {
        "colab": {
          "base_uri": "https://localhost:8080/"
        },
        "id": "b70a1038",
        "outputId": "b83938f9-d9bd-42f1-b214-d8cfde884272"
      },
      "outputs": [
        {
          "output_type": "stream",
          "name": "stdout",
          "text": [
            "Predicted number is:  1\n"
          ]
        }
      ],
      "source": [
        "pred_num = max(y_output[index])\n",
        "for i in range(len(y_output[index])):\n",
        "    if(y_output[index][i] == pred_num):\n",
        "        print(\"Predicted number is: \",i)\n",
        "        break"
      ]
    },
    {
      "cell_type": "code",
      "execution_count": null,
      "id": "9d810379",
      "metadata": {
        "colab": {
          "base_uri": "https://localhost:8080/",
          "height": 445
        },
        "id": "9d810379",
        "outputId": "b361be0f-2680-45da-b917-8c110e314b65"
      },
      "outputs": [
        {
          "output_type": "display_data",
          "data": {
            "text/plain": [
              "<Figure size 900x500 with 1 Axes>"
            ],
            "image/png": "[encoded data removed]"
          },
          "metadata": {}
        }
      ],
      "source": [
        "import pandas as pd\n",
        "pd.DataFrame(H.history).plot(figsize=(9,5))\n",
        "plt.show()"
      ]
    },
    {
      "cell_type": "code",
      "execution_count": null,
      "id": "9c0b6631",
      "metadata": {
        "id": "9c0b6631"
      },
      "outputs": [],
      "source": []
    }
  ],
  "metadata": {
    "kernelspec": {
      "display_name": "Python 3 (ipykernel)",
      "language": "python",
      "name": "python3"
    },
    "language_info": {
      "codemirror_mode": {
        "name": "ipython",
        "version": 3
      },
      "file_extension": ".py",
      "mimetype": "text/x-python",
      "name": "python",
      "nbconvert_exporter": "python",
      "pygments_lexer": "ipython3",
      "version": "3.9.7"
    },
    "colab": {
      "provenance": []
    }
  },
  "nbformat": 4,
  "nbformat_minor": 5
}